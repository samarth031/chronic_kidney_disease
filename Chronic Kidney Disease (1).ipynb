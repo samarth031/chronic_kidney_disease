{
 "cells": [
  {
   "cell_type": "markdown",
   "metadata": {},
   "source": [
    "<h3> <font color='green' style=\"text-align: center;\"><p>CLASSIFICATION OF CHRONIC KIDNEY DISEASE</p></h3>"
   ]
  },
  {
   "cell_type": "code",
   "execution_count": 145,
   "metadata": {},
   "outputs": [],
   "source": [
    "# Import the modules needed for the following code\n",
    "\n",
    "import pandas as pd\n",
    "import os\n",
    "from glob import glob\n",
    "import sys\n",
    "import numpy as np\n",
    "import matplotlib.pyplot as plt\n",
    "from sklearn.impute import SimpleImputer\n",
    "from sklearn.preprocessing import LabelEncoder\n",
    "from sklearn.metrics import accuracy_score, confusion_matrix\n",
    "from sklearn.tree import DecisionTreeClassifier\n",
    "from sklearn.model_selection import train_test_split\n",
    "from sklearn.naive_bayes import GaussianNB"
   ]
  },
  {
   "cell_type": "markdown",
   "metadata": {},
   "source": [
    "<!-- <h3><strong color='red'>Read the csv file for pre processing</h3> -->"
   ]
  },
  {
   "cell_type": "code",
   "execution_count": 132,
   "metadata": {},
   "outputs": [],
   "source": [
    "# Read the flat file containing the data\n",
    "path = 'C:/Users/Samarth/Desktop/Samarth/BITS/SEM 1/Data Mining/Assignments/1/Assignment_BLR'"
   ]
  },
  {
   "cell_type": "code",
   "execution_count": 133,
   "metadata": {},
   "outputs": [
    {
     "name": "stdout",
     "output_type": "stream",
     "text": [
      "Processing this Input File: C:/Users/Samarth/Desktop/Samarth/BITS/SEM 1/Data Mining/Assignments/1/Assignment_BLR\\kidneyChronic.csv\n"
     ]
    }
   ],
   "source": [
    "_file = glob(os.path.join(path, \"*.csv\"))[1]\n",
    "print(\"Processing this Input File: {0}\".format(_file))\n",
    "df = pd.read_csv(_file, encoding='utf-8', low_memory=False)"
   ]
  },
  {
   "cell_type": "code",
   "execution_count": 134,
   "metadata": {},
   "outputs": [],
   "source": [
    "# Dictionary cosisting of the columns with appropriate column names\n",
    "\n",
    "columns_to_be_mapped = {\n",
    "    'age' : 'Age',\n",
    "    'bp' : 'BloodPressure',\n",
    "    'sg' : 'SpecificGravity',\n",
    "    'al' : 'Albumin',\n",
    "    'su' : 'Sugar',\n",
    "    'rbc' : 'RedBloodCells',\n",
    "    'pc' : 'PusCell',\n",
    "    'pcc' : 'PusCellClumps',\n",
    "    'ba' : 'Bacteria',\n",
    "    'bgr' : 'BloodGlucoseRandom',\n",
    "    'bu' : 'BloodUrea',\n",
    "    'sc' : 'SerumCreatinine',\n",
    "    'sod' : 'Sodium',\n",
    "    'pot' : 'Potassium',\n",
    "    'hemo' : 'Hemoglobin',\n",
    "    'pcv' : 'PackedCellVolume',\n",
    "    'wbcc' : 'WhiteBloodCellCount',\n",
    "    'rbcc' : 'RedBloodCellCount',\n",
    "    'htn' : 'Hypertension',\n",
    "    'dm' : 'DiabetesMellitus',\n",
    "    'cad' : 'CoronaryArteryDisease',\n",
    "    'appet' : 'Appetite',\n",
    "    'pe' : 'PedalEdema',\n",
    "    'ane' : 'Anemia',\n",
    "    'class' : 'Class'\n",
    "\n",
    "}"
   ]
  },
  {
   "cell_type": "code",
   "execution_count": 135,
   "metadata": {},
   "outputs": [],
   "source": [
    "# Rename the columns in the dataframe as per the above defined dictionary\n",
    "\n",
    "df.rename(columns=columns_to_be_mapped, inplace=True) # Replace the columns names as the above dictionary"
   ]
  },
  {
   "cell_type": "code",
   "execution_count": 136,
   "metadata": {},
   "outputs": [],
   "source": [
    "# Replace the '?' present to indicate the missing data with numpy.nan's\n",
    "\n",
    "df.replace(['?', '?\\t', '\\t?'], np.nan, inplace=True)"
   ]
  },
  {
   "cell_type": "code",
   "execution_count": 122,
   "metadata": {},
   "outputs": [],
   "source": [
    "def remove_outlier(df_in, col_name):\n",
    "    \"\"\"\n",
    "    This function detects outliers and then removes the record containing it\n",
    "    \"\"\"\n",
    "    print(df_in.shape)\n",
    "    q1 = df_in[col_name].quantile(0.25)\n",
    "    q3 = df_in[col_name].quantile(0.75)\n",
    "    iqr = q3-q1 #Interquartile range\n",
    "    fence_low  = q1-1.5*iqr\n",
    "    fence_high = q3+1.5*iqr\n",
    "    df_out = df_in.loc[(df_in[col_name] > fence_low) & (df_in[col_name] < fence_high)]\n",
    "    print(df_out.shape)\n",
    "    print(\"There were {0} records containing the outliers for the column{1}. These will be removed from further analysis.\".format(df_in.shape[0] - df_out.shape[0], col_name))\n",
    "    return df_out"
   ]
  },
  {
   "cell_type": "code",
   "execution_count": 137,
   "metadata": {},
   "outputs": [
    {
     "name": "stdout",
     "output_type": "stream",
     "text": [
      "Number of blanks in column Age: 0\n",
      "Number of blanks in column BloodPressure: 0\n",
      "Number of blanks in column BloodGlucoseRandom: 0\n",
      "Number of blanks in column BloodUrea: 0\n",
      "Number of blanks in column SerumCreatinine: 0\n",
      "Number of blanks in column Sodium: 0\n",
      "Number of blanks in column Potassium: 0\n",
      "Number of blanks in column Hemoglobin: 0\n",
      "Number of blanks in column PackedCellVolume: 0\n",
      "Number of blanks in column WhiteBloodCellCount: 0\n",
      "Number of blanks in column RedBloodCellCount: 0\n",
      "Number of Iterations=Number of columns = 11\n"
     ]
    }
   ],
   "source": [
    "numerical_columns = ['Age', 'BloodPressure', 'BloodGlucoseRandom', 'BloodUrea', 'SerumCreatinine', 'Sodium', 'Potassium', \n",
    "                    'Hemoglobin', 'PackedCellVolume', 'WhiteBloodCellCount', 'RedBloodCellCount']\n",
    "\n",
    "# Missing data in the numerical columns are handled here by taking the mean of the columns\n",
    "\n",
    "for count, i in enumerate(numerical_columns):\n",
    "    df[i] = df[i].astype(float)\n",
    "    df[i] = df[i].fillna(round(df[i].mean(), 2)) # fillna methods fill missing values with the mentioned result\n",
    "    print(\"Number of blanks in column {0}: {1}\".format(i, df[i].isnull().sum())) #Count the number of blanks, should ideally be 0\n",
    "print(\"Number of Iterations=Number of columns = {0}\".format(count+1))\n",
    "\n",
    "# Further down we use the boxplots to figure out the outliers present in the data"
   ]
  },
  {
   "cell_type": "markdown",
   "metadata": {},
   "source": [
    "<h3><font color='pink'><p>Boxplot of the numerical columns to detect outliers, if any.</p></h3>"
   ]
  },
  {
   "cell_type": "code",
   "execution_count": 124,
   "metadata": {},
   "outputs": [
    {
     "data": {
      "text/plain": [
       "<matplotlib.axes._subplots.AxesSubplot at 0x231693fe6a0>"
      ]
     },
     "execution_count": 124,
     "metadata": {},
     "output_type": "execute_result"
    },
    {
     "data": {
      "image/png": "[encoded data removed]",
      "text/plain": [
       "<Figure size 1440x360 with 1 Axes>"
      ]
     },
     "metadata": {
      "needs_background": "light"
     },
     "output_type": "display_data"
    }
   ],
   "source": [
    "df[numerical_columns].boxplot(figsize=(20,5))"
   ]
  },
  {
   "cell_type": "code",
   "execution_count": 125,
   "metadata": {},
   "outputs": [
    {
     "name": "stdout",
     "output_type": "stream",
     "text": [
      "(400, 25)\n",
      "(383, 25)\n",
      "There were 17 records containing the outliers for the columnWhiteBloodCellCount. These will be removed from further analysis.\n"
     ]
    }
   ],
   "source": [
    "# As we see from the boxplot, there are outliers in the 10th numerical column(WhiteBloodCellCount). So we have to remove them.\n",
    "\n",
    "df = remove_outlier(df, 'WhiteBloodCellCount')"
   ]
  },
  {
   "cell_type": "markdown",
   "metadata": {},
   "source": [
    "<h3><font color='grey'><p>Boxplot after removing the outliers</p></h3>"
   ]
  },
  {
   "cell_type": "code",
   "execution_count": 126,
   "metadata": {},
   "outputs": [
    {
     "data": {
      "text/plain": [
       "<matplotlib.axes._subplots.AxesSubplot at 0x2316acc70b8>"
      ]
     },
     "execution_count": 126,
     "metadata": {},
     "output_type": "execute_result"
    },
    {
     "data": {
      "image/png": "[encoded data removed]",
      "text/plain": [
       "<Figure size 1440x360 with 1 Axes>"
      ]
     },
     "metadata": {
      "needs_background": "light"
     },
     "output_type": "display_data"
    }
   ],
   "source": [
    "# After removing the outliers, the boxplot shows clean results\n",
    "\n",
    "df[numerical_columns].boxplot(figsize=(20,5))"
   ]
  },
  {
   "cell_type": "code",
   "execution_count": 138,
   "metadata": {},
   "outputs": [],
   "source": [
    "#  The nominal columns having missing data are just filled in with the most frequent occuring value in a particular column\n",
    "\n",
    "nominal_cols = ['SpecificGravity', 'Albumin', 'Sugar', 'RedBloodCells', 'PusCell', 'PusCellClumps', 'Bacteria', 'Hypertension',\n",
    "                'DiabetesMellitus', 'CoronaryArteryDisease', 'Appetite', 'PedalEdema', 'Anemia']\n",
    "\n",
    "labelencoder = LabelEncoder()\n",
    "\n",
    "\n",
    "imp_nominal = SimpleImputer(strategy=\"most_frequent\")\n",
    "df[nominal_cols] = df[nominal_cols].astype(str).apply(labelencoder.fit_transform)"
   ]
  },
  {
   "cell_type": "code",
   "execution_count": 139,
   "metadata": {},
   "outputs": [],
   "source": [
    "# Create a test/train validation split to compare and get the accuracy results\n",
    "X = df.iloc[:, 0:-1] \n",
    "y = df.iloc[:, -1]\n",
    "X_train, X_test, y_train, y_test = train_test_split(X, y, test_size=0.2, random_state=2)"
   ]
  },
  {
   "cell_type": "markdown",
   "metadata": {},
   "source": [
    "<h3><font color='red'><p>Using Decision Tree</p></h3>"
   ]
  },
  {
   "cell_type": "code",
   "execution_count": 143,
   "metadata": {},
   "outputs": [],
   "source": [
    "# Create Decision Tree classifer object\n",
    "clf = DecisionTreeClassifier(random_state=2)\n",
    "\n",
    "# Train Decision Tree Classifer\n",
    "clf = clf.fit(X_train,y_train)\n",
    "\n",
    "#Predict the response for test dataset\n",
    "y_pred = clf.predict(X_test)"
   ]
  },
  {
   "cell_type": "code",
   "execution_count": 111,
   "metadata": {},
   "outputs": [
    {
     "name": "stdout",
     "output_type": "stream",
     "text": [
      "Accuracy: 0.961038961038961\n",
      "Confusion matrix: \n",
      " [[50  1]\n",
      " [ 2 24]]\n"
     ]
    }
   ],
   "source": [
    "print(\"Accuracy:\",accuracy_score(y_test, y_pred))\n",
    "print(\"Confusion matrix: \\n\", confusion_matrix(y_test, y_pred))"
   ]
  },
  {
   "cell_type": "markdown",
   "metadata": {},
   "source": [
    "<h3><font color='red'><p>Using Naive Bayes</p></h3>"
   ]
  },
  {
   "cell_type": "code",
   "execution_count": null,
   "metadata": {},
   "outputs": [],
   "source": [
    "# Naive Bayes follows the same data pre processing as done in decision trees.\n",
    "# The outliers are removed from the data and the classification is made on the remaining data."
   ]
  },
  {
   "cell_type": "code",
   "execution_count": 141,
   "metadata": {},
   "outputs": [
    {
     "name": "stdout",
     "output_type": "stream",
     "text": [
      "Accuracy: 0.95\n",
      "Confusion matrix: \n",
      " [[52  2]\n",
      " [ 2 24]]\n"
     ]
    }
   ],
   "source": [
    "clf = GaussianNB()\n",
    "clf = clf.fit(X_train,y_train)\n",
    "y_pred = clf.predict(X_test)\n",
    "print(\"Accuracy:\",accuracy_score(y_test, y_pred))\n",
    "print(\"Confusion matrix: \\n\", confusion_matrix(y_test, y_pred))"
   ]
  },
  {
   "cell_type": "markdown",
   "metadata": {},
   "source": [
    "<h3><font color='gold'><p>Comparing Algorithm Accuracies</p></h3>"
   ]
  },
  {
   "cell_type": "code",
   "execution_count": 147,
   "metadata": {},
   "outputs": [
    {
     "data": {
      "image/png": "[encoded data removed]",
      "text/plain": [
       "<Figure size 432x288 with 1 Axes>"
      ]
     },
     "metadata": {},
     "output_type": "display_data"
    }
   ],
   "source": [
    "x = [\"Decision Tree\", \"Naive Bayes\"]\n",
    "g = [96.1, 90.5]\n",
    "plt.style.use('ggplot')\n",
    "# x = ['Mercury', 'Venus', 'Earth', 'Mars']\n",
    "# g = [3.76,9.04,9.8,3.77]\n",
    "x_pos = np.arange(len(x))\n",
    "plt.bar(x_pos, g, color='#7ed6df')\n",
    "plt.xlabel(\"Algorithms\")\n",
    "plt.ylabel(\"g\")\n",
    "plt.title(\"Algorithm Performance Comparision\")\n",
    "plt.xticks(x_pos, x)\n",
    "plt.show()"
   ]
  },
  {
   "cell_type": "code",
   "execution_count": null,
   "metadata": {},
   "outputs": [],
   "source": []
  }
 ],
 "metadata": {
  "kernelspec": {
   "display_name": "Python 3",
   "language": "python",
   "name": "python3"
  },
  "language_info": {
   "codemirror_mode": {
    "name": "ipython",
    "version": 3
   },
   "file_extension": ".py",
   "mimetype": "text/x-python",
   "name": "python",
   "nbconvert_exporter": "python",
   "pygments_lexer": "ipython3",
   "version": "3.7.3"
  }
 },
 "nbformat": 4,
 "nbformat_minor": 2
}
