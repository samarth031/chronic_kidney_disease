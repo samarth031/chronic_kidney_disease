{
 "cells": [
  {
   "cell_type": "markdown",
   "metadata": {},
   "source": [
    "<h3> <font color='green' style=\"text-align: center;\"><p>CLASSIFICATION OF CHRONIC KIDNEY DISEASE</p></h3>"
   ]
  },
  {
   "cell_type": "code",
   "execution_count": 1,
   "metadata": {},
   "outputs": [],
   "source": [
    "# Import the modules needed for the following code\n",
    "\n",
    "import pandas as pd\n",
    "import os\n",
    "from glob import glob\n",
    "import sys\n",
    "import numpy as np\n",
    "import matplotlib.pyplot as plt\n",
    "from sklearn.impute import SimpleImputer\n",
    "from sklearn.preprocessing import LabelEncoder\n",
    "from sklearn.metrics import accuracy_score, confusion_matrix\n",
    "from sklearn.tree import DecisionTreeClassifier\n",
    "from sklearn.model_selection import train_test_split"
   ]
  },
  {
   "cell_type": "markdown",
   "metadata": {},
   "source": [
    "<!-- <h3><strong color='red'>Read the csv file for pre processing</h3> -->"
   ]
  },
  {
   "cell_type": "code",
   "execution_count": 2,
   "metadata": {},
   "outputs": [],
   "source": [
    "# Read the flat file containing the data\n",
    "path = 'C:/Users/Samarth/Desktop/Samarth/BITS/SEM 1/Data Mining/Assignments/1/Assignment_BLR'"
   ]
  },
  {
   "cell_type": "code",
   "execution_count": 3,
   "metadata": {},
   "outputs": [
    {
     "name": "stdout",
     "output_type": "stream",
     "text": [
      "Processing this Input File: C:/Users/Samarth/Desktop/Samarth/BITS/SEM 1/Data Mining/Assignments/1/Assignment_BLR\\kidneyChronic.csv\n"
     ]
    }
   ],
   "source": [
    "_file = glob(os.path.join(path, \"*.csv\"))[1]\n",
    "print(\"Processing this Input File: {0}\".format(_file))\n",
    "df = pd.read_csv(_file, encoding='utf-8', low_memory=False)"
   ]
  },
  {
   "cell_type": "code",
   "execution_count": 4,
   "metadata": {},
   "outputs": [],
   "source": [
    "# Dictionary cosisting of the columns with appropriate column names\n",
    "\n",
    "columns_to_be_mapped = {\n",
    "    'age' : 'Age',\n",
    "    'bp' : 'BloodPressure',\n",
    "    'sg' : 'SpecificGravity',\n",
    "    'al' : 'Albumin',\n",
    "    'su' : 'Sugar',\n",
    "    'rbc' : 'RedBloodCells',\n",
    "    'pc' : 'PusCell',\n",
    "    'pcc' : 'PusCellClumps',\n",
    "    'ba' : 'Bacteria',\n",
    "    'bgr' : 'BloodGlucoseRandom',\n",
    "    'bu' : 'BloodUrea',\n",
    "    'sc' : 'SerumCreatinine',\n",
    "    'sod' : 'Sodium',\n",
    "    'pot' : 'Potassium',\n",
    "    'hemo' : 'Hemoglobin',\n",
    "    'pcv' : 'PackedCellVolume',\n",
    "    'wbcc' : 'WhiteBloodCellCount',\n",
    "    'rbcc' : 'RedBloodCellCount',\n",
    "    'htn' : 'Hypertension',\n",
    "    'dm' : 'DiabetesMellitus',\n",
    "    'cad' : 'CoronaryArteryDisease',\n",
    "    'appet' : 'Appetite',\n",
    "    'pe' : 'PedalEdema',\n",
    "    'ane' : 'Anemia',\n",
    "    'class' : 'Class'\n",
    "\n",
    "}"
   ]
  },
  {
   "cell_type": "code",
   "execution_count": 5,
   "metadata": {},
   "outputs": [],
   "source": [
    "# Rename the columns in the dataframe as per the above defined dictionary\n",
    "df.rename(columns=columns_to_be_mapped, inplace=True) # Replace the columns names as the above dictionary"
   ]
  },
  {
   "cell_type": "code",
   "execution_count": 6,
   "metadata": {},
   "outputs": [],
   "source": [
    "# Replace the '?' present to indicate the missing data with numpy.nan's\n",
    "df.replace(['?', '?\\t', '\\t?'], np.nan, inplace=True)"
   ]
  },
  {
   "cell_type": "code",
   "execution_count": 7,
   "metadata": {},
   "outputs": [
    {
     "name": "stdout",
     "output_type": "stream",
     "text": [
      "Number of blanks in column Age: 0\n",
      "Number of blanks in column BloodPressure: 0\n",
      "Number of blanks in column BloodGlucoseRandom: 0\n",
      "Number of blanks in column BloodUrea: 0\n",
      "Number of blanks in column SerumCreatinine: 0\n",
      "Number of blanks in column Sodium: 0\n",
      "Number of blanks in column Potassium: 0\n",
      "Number of blanks in column Hemoglobin: 0\n",
      "Number of blanks in column PackedCellVolume: 0\n",
      "Number of blanks in column WhiteBloodCellCount: 0\n",
      "Number of blanks in column RedBloodCellCount: 0\n",
      "Number of Iterations=Number of columns = 11\n"
     ]
    }
   ],
   "source": [
    "numerical_columns = ['Age', 'BloodPressure', 'BloodGlucoseRandom', 'BloodUrea', 'SerumCreatinine', 'Sodium', 'Potassium', \n",
    "                    'Hemoglobin', 'PackedCellVolume', 'WhiteBloodCellCount', 'RedBloodCellCount']\n",
    "\n",
    "# Missing data in the numerical columns \n",
    "for count, i in enumerate(numerical_columns):\n",
    "    df[i] = df[i].astype(float)\n",
    "    df[i] = df[i].fillna(round(df[i].mean(), 2))\n",
    "    print(\"Number of blanks in column {0}: {1}\".format(i, df[i].isnull().sum())) #Count the number of blanks, should ideally be 0\n",
    "print(\"Number of Iterations=Number of columns = {0}\".format(count+1))\n",
    "# imp_numeric = SimpleImputer(missing_values=np.nan, strategy='mean')\n",
    "# df[numerical_columns] = imp_numeric.fit_transform(df[numerical_columns])"
   ]
  },
  {
   "cell_type": "code",
   "execution_count": 313,
   "metadata": {},
   "outputs": [],
   "source": [
    "nominal_cols = ['SpecificGravity', 'Albumin', 'Sugar', 'RedBloodCells', 'PusCell', 'PusCellClumps', 'Bacteria', 'Hypertension',\n",
    "                'DiabetesMellitus', 'CoronaryArteryDisease', 'Appetite', 'PedalEdema', 'Anemia']\n",
    "for count, i in enumerate(nominal_cols):\n",
    "#     print(df[i].isnull().sum())\n",
    "    df[i] = df[i].astype(str)\n",
    "    df[i] = df[i].apply(lambda x: x.strip())\n",
    "    df[i] = df[i].replace('nan', df[i].value_counts().index[0])\n",
    "    print (df[i].value_counts())\n",
    "\n",
    "\n",
    "# imp_nominal = SimpleImputer(strategy=\"most_frequent\")\n",
    "# df[nominal_cols] = df[nominal_cols].astype(str).apply(labelencoder.fit_transform)"
   ]
  },
  {
   "cell_type": "code",
   "execution_count": 314,
   "metadata": {},
   "outputs": [],
   "source": []
  },
  {
   "cell_type": "code",
   "execution_count": 315,
   "metadata": {},
   "outputs": [],
   "source": [
    "X = df.iloc[:, 0:-1]\n",
    "y = df.iloc[:, -1]\n",
    "X_train, X_test, y_train, y_test = train_test_split(X, y, test_size=0.2, random_state=2)"
   ]
  },
  {
   "cell_type": "code",
   "execution_count": 316,
   "metadata": {},
   "outputs": [],
   "source": [
    "# Create Decision Tree classifer object\n",
    "clf = DecisionTreeClassifier(random_state=2)\n",
    "\n",
    "# Train Decision Tree Classifer\n",
    "clf = clf.fit(X_train,y_train)\n",
    "\n",
    "#Predict the response for test dataset\n",
    "y_pred = clf.predict(X_test)"
   ]
  },
  {
   "cell_type": "code",
   "execution_count": 317,
   "metadata": {},
   "outputs": [
    {
     "name": "stdout",
     "output_type": "stream",
     "text": [
      "Accuracy: 0.975\n",
      "Confusion matrix: \n",
      " [[52  2]\n",
      " [ 0 26]]\n"
     ]
    }
   ],
   "source": [
    "print(\"Accuracy:\",accuracy_score(y_test, y_pred))\n",
    "print(\"Confusion matrix: \\n\", confusion_matrix(y_test, y_pred))"
   ]
  },
  {
   "cell_type": "code",
   "execution_count": null,
   "metadata": {},
   "outputs": [],
   "source": []
  }
 ],
 "metadata": {
  "kernelspec": {
   "display_name": "Python 3",
   "language": "python",
   "name": "python3"
  },
  "language_info": {
   "codemirror_mode": {
    "name": "ipython",
    "version": 3
   },
   "file_extension": ".py",
   "mimetype": "text/x-python",
   "name": "python",
   "nbconvert_exporter": "python",
   "pygments_lexer": "ipython3",
   "version": "3.7.3"
  }
 },
 "nbformat": 4,
 "nbformat_minor": 2
}
